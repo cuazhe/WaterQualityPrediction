{
 "cells": [
  {
   "cell_type": "markdown",
   "metadata": {
    "colab_type": "text",
    "id": "5bcFBFfkLGAD"
   },
   "source": [
    "# A predictive model for water pollution given changes in industry across counties in the United States\n",
    "\n",
    "# A predictive model of areas at risk of water pollution due to industry across counties in the United States. \n",
    "\n",
    "# Regions at risk "
   ]
  },
  {
   "cell_type": "code",
   "execution_count": 1,
   "metadata": {
    "colab": {},
    "colab_type": "code",
    "id": "cYi_qZKl4V0R"
   },
   "outputs": [
    {
     "name": "stderr",
     "output_type": "stream",
     "text": [
      "/Library/Frameworks/Python.framework/Versions/3.6/lib/python3.6/site-packages/lightgbm/__init__.py:46: UserWarning: Starting from version 2.2.1, the library file in distribution wheels for macOS is built by the Apple Clang (Xcode_8.3.1) compiler.\n",
      "This means that in case of installing LightGBM from PyPI via the ``pip install lightgbm`` command, you don't need to install the gcc compiler anymore.\n",
      "Instead of that, you need to install the OpenMP library, which is required for running LightGBM on the system with the Apple Clang compiler.\n",
      "You can install the OpenMP library by the following command: ``brew install libomp``.\n",
      "  \"You can install the OpenMP library by the following command: ``brew install libomp``.\", UserWarning)\n"
     ]
    }
   ],
   "source": [
    "import pandas as pd\n",
    "import numpy as np\n",
    "import matplotlib.pyplot as plt\n",
    "import seaborn as sns\n",
    "from scipy import stats\n",
    "import missingno as msno\n",
    "import featuretools as ft\n",
    "import lightgbm as lgb\n",
    "import scikitplot as skplt\n",
    "from sklearn.preprocessing import LabelEncoder\n",
    "\n",
    "sns.set(rc={'figure.figsize':(20, 10)})\n",
    "\n",
    "import os"
   ]
  },
  {
   "cell_type": "markdown",
   "metadata": {
    "colab_type": "text",
    "id": "cPGPD6r8LGAI"
   },
   "source": [
    "### Authors"
   ]
  },
  {
   "cell_type": "markdown",
   "metadata": {
    "colab_type": "text",
    "id": "_Zl7woyaLGAL"
   },
   "source": [
    "Qiyue Zou <br>\n",
    "Dajun Luo <br>\n",
    "Zhe Wang <br>\n",
    "Brandon Wong "
   ]
  },
  {
   "cell_type": "markdown",
   "metadata": {
    "colab_type": "text",
    "id": "tABMuzgRQVXD"
   },
   "source": [
    "## Non-Technical Executive Summary"
   ]
  },
  {
   "cell_type": "markdown",
   "metadata": {
    "colab_type": "text",
    "id": "8gI1zXAILGAW"
   },
   "source": [
    "# **Abstract** \n",
    "\n",
    "Water is an undeniable resource. It is essential for human wellbeing and is critical to various industry as well. However, as our economy grows and our industry develops, the by-products of expansion begin to accumulate. Access to safe water, even in a developed country such as the United States, is not guaranteed. Here using machine learning methods, we predict the quality of water in certain counties according to the distribution of industry types in those regions. Our model predictst that ...\n",
    "\n",
    "\n",
    "\n",
    "With this in mind, we decided to explore how recent changes in industry affect water quality. ***after exploration we adjusted our purpose and decided to answer X question using Y predictive model***\n",
    "\n",
    "Our finding can find its application in informing the at-risk population and ultimately produce a predictive model with the aim to mitigate water contamination. \n",
    "\n",
    "**findings here**"
   ]
  },
  {
   "cell_type": "markdown",
   "metadata": {
    "colab_type": "text",
    "id": "wWYF8a7b8p6q"
   },
   "source": []
  },
  {
   "cell_type": "markdown",
   "metadata": {
    "colab_type": "text",
    "id": "KFo-QcTHQfqB"
   },
   "source": [
    "## Technical Exposition"
   ]
  },
  {
   "cell_type": "markdown",
   "metadata": {
    "colab_type": "text",
    "id": "-WEpNHWiTOJY"
   },
   "source": [
    "**summary here** methodology/approach"
   ]
  },
  {
   "cell_type": "markdown",
   "metadata": {
    "colab_type": "text",
    "id": "EH34yPSPLGAO"
   },
   "source": [
    "### Team Toolset"
   ]
  },
  {
   "cell_type": "markdown",
   "metadata": {
    "colab_type": "text",
    "id": "qxL2dJ6CLGAQ"
   },
   "source": [
    "Python: scikit-learn, pandas, Jupyter Notebook, Colaboratory<br>\n",
    "Tableau, Excel, Box"
   ]
  },
  {
   "cell_type": "markdown",
   "metadata": {
    "colab_type": "text",
    "id": "yuQkpmcYQ2Ac"
   },
   "source": [
    "### Data Understanding"
   ]
  },
  {
   "cell_type": "markdown",
   "metadata": {
    "colab_type": "text",
    "id": "vx0aQAxJQ0yX"
   },
   "source": [
    "***Explain why we used the datasets we used***\n",
    "\n",
    "The following core datasets were pre-cleaned and provided by Citadel and CorrelationOne:\n",
    "1.   *chemicals.csv*\n",
    "2.   *droughts.csv*\n",
    "3.   *earnings.csv*\n",
    "4.   *educational_attainment.csv*\n",
    "5.   *industry_occupation.csv*\n",
    "6.   *water_usage.csv*\n",
    "\n",
    "However, not all of them were relevent to our exploration. Since we wanted to study the relationship between changes in industry and water quality, we decided to use the *chemicals.csv* and *industry_occupation.csv* datasets. \n",
    "\n"
   ]
  },
  {
   "cell_type": "markdown",
   "metadata": {
    "colab_type": "text",
    "id": "nxbNiP-JdSkt"
   },
   "source": [
    "### Wrangling & Cleaning Process"
   ]
  },
  {
   "cell_type": "markdown",
   "metadata": {
    "colab_type": "text",
    "id": "fgy05lF6sF8D"
   },
   "source": [
    "Before performing any further analysis, we should first pre-process the datasets."
   ]
  },
  {
   "cell_type": "markdown",
   "metadata": {
    "colab_type": "text",
    "id": "_LgGDHODgbrl"
   },
   "source": [
    "*chemicals.csv*"
   ]
  },
  {
   "cell_type": "code",
   "execution_count": 2,
   "metadata": {
    "colab": {
     "base_uri": "https://localhost:8080/",
     "height": 185
    },
    "colab_type": "code",
    "id": "EjhnFeEEggDh",
    "outputId": "f539a18a-0c7e-408d-9315-2f47a45634b5"
   },
   "outputs": [
    {
     "data": {
      "text/html": [
       "<div>\n",
       "<style scoped>\n",
       "    .dataframe tbody tr th:only-of-type {\n",
       "        vertical-align: middle;\n",
       "    }\n",
       "\n",
       "    .dataframe tbody tr th {\n",
       "        vertical-align: top;\n",
       "    }\n",
       "\n",
       "    .dataframe thead th {\n",
       "        text-align: right;\n",
       "    }\n",
       "</style>\n",
       "<table border=\"1\" class=\"dataframe\">\n",
       "  <thead>\n",
       "    <tr style=\"text-align: right;\">\n",
       "      <th></th>\n",
       "      <th>cws_name</th>\n",
       "      <th>chemical_species</th>\n",
       "      <th>contaminant_level</th>\n",
       "      <th>county</th>\n",
       "      <th>pws_id</th>\n",
       "      <th>pop_served</th>\n",
       "      <th>state</th>\n",
       "      <th>unit_measurement</th>\n",
       "      <th>value</th>\n",
       "      <th>year</th>\n",
       "      <th>fips</th>\n",
       "      <th>state_fips</th>\n",
       "    </tr>\n",
       "  </thead>\n",
       "  <tbody>\n",
       "    <tr>\n",
       "      <th>0</th>\n",
       "      <td>CALIFORNIA WATER SERVICE - LIVERMORE</td>\n",
       "      <td>Uranium</td>\n",
       "      <td>Less than or equal MCL</td>\n",
       "      <td>Alameda</td>\n",
       "      <td>CA0110003</td>\n",
       "      <td>57200</td>\n",
       "      <td>California</td>\n",
       "      <td>micrograms/L</td>\n",
       "      <td>1.54</td>\n",
       "      <td>2000</td>\n",
       "      <td>6001</td>\n",
       "      <td>6</td>\n",
       "    </tr>\n",
       "    <tr>\n",
       "      <th>1</th>\n",
       "      <td>CITY OF LIVERMORE</td>\n",
       "      <td>Uranium</td>\n",
       "      <td>Less than or equal MCL</td>\n",
       "      <td>Alameda</td>\n",
       "      <td>CA0110011</td>\n",
       "      <td>26400</td>\n",
       "      <td>California</td>\n",
       "      <td>micrograms/L</td>\n",
       "      <td>1.64</td>\n",
       "      <td>2000</td>\n",
       "      <td>6001</td>\n",
       "      <td>6</td>\n",
       "    </tr>\n",
       "    <tr>\n",
       "      <th>2</th>\n",
       "      <td>CITY OF PLEASANTON</td>\n",
       "      <td>Uranium</td>\n",
       "      <td>Less than or equal MCL</td>\n",
       "      <td>Alameda</td>\n",
       "      <td>CA0110008</td>\n",
       "      <td>70600</td>\n",
       "      <td>California</td>\n",
       "      <td>micrograms/L</td>\n",
       "      <td>1.64</td>\n",
       "      <td>2000</td>\n",
       "      <td>6001</td>\n",
       "      <td>6</td>\n",
       "    </tr>\n",
       "    <tr>\n",
       "      <th>3</th>\n",
       "      <td>DUBLIN SAN RAMON SERVICES DISTRICT</td>\n",
       "      <td>Uranium</td>\n",
       "      <td>Less than or equal MCL</td>\n",
       "      <td>Alameda</td>\n",
       "      <td>CA0110009</td>\n",
       "      <td>72500</td>\n",
       "      <td>California</td>\n",
       "      <td>micrograms/L</td>\n",
       "      <td>1.64</td>\n",
       "      <td>2000</td>\n",
       "      <td>6001</td>\n",
       "      <td>6</td>\n",
       "    </tr>\n",
       "    <tr>\n",
       "      <th>4</th>\n",
       "      <td>NORRIS CANYON PROPERTY OWNERS ASSN</td>\n",
       "      <td>Uranium</td>\n",
       "      <td>Less than or equal MCL</td>\n",
       "      <td>Alameda</td>\n",
       "      <td>CA0103040</td>\n",
       "      <td>100</td>\n",
       "      <td>California</td>\n",
       "      <td>micrograms/L</td>\n",
       "      <td>4.51</td>\n",
       "      <td>2000</td>\n",
       "      <td>6001</td>\n",
       "      <td>6</td>\n",
       "    </tr>\n",
       "  </tbody>\n",
       "</table>\n",
       "</div>"
      ],
      "text/plain": [
       "                               cws_name chemical_species  \\\n",
       "0  CALIFORNIA WATER SERVICE - LIVERMORE          Uranium   \n",
       "1                     CITY OF LIVERMORE          Uranium   \n",
       "2                    CITY OF PLEASANTON          Uranium   \n",
       "3    DUBLIN SAN RAMON SERVICES DISTRICT          Uranium   \n",
       "4    NORRIS CANYON PROPERTY OWNERS ASSN          Uranium   \n",
       "\n",
       "        contaminant_level   county     pws_id  pop_served       state  \\\n",
       "0  Less than or equal MCL  Alameda  CA0110003       57200  California   \n",
       "1  Less than or equal MCL  Alameda  CA0110011       26400  California   \n",
       "2  Less than or equal MCL  Alameda  CA0110008       70600  California   \n",
       "3  Less than or equal MCL  Alameda  CA0110009       72500  California   \n",
       "4  Less than or equal MCL  Alameda  CA0103040         100  California   \n",
       "\n",
       "  unit_measurement  value  year  fips  state_fips  \n",
       "0     micrograms/L   1.54  2000  6001           6  \n",
       "1     micrograms/L   1.64  2000  6001           6  \n",
       "2     micrograms/L   1.64  2000  6001           6  \n",
       "3     micrograms/L   1.64  2000  6001           6  \n",
       "4     micrograms/L   4.51  2000  6001           6  "
      ]
     },
     "execution_count": 2,
     "metadata": {},
     "output_type": "execute_result"
    }
   ],
   "source": [
    "chemicals = pd.read_csv(\"chemicals.csv\")\n",
    "chemicals.head()"
   ]
  },
  {
   "cell_type": "markdown",
   "metadata": {
    "colab_type": "text",
    "id": "3Yf4hlPviAvG"
   },
   "source": [
    "*industry_occupation.csv*"
   ]
  },
  {
   "cell_type": "code",
   "execution_count": 3,
   "metadata": {
    "colab": {
     "base_uri": "https://localhost:8080/",
     "height": 394
    },
    "colab_type": "code",
    "id": "yNSkdERPuI2T",
    "outputId": "bc9b1ad9-8795-4d58-d915-804fc6dd17f5"
   },
   "outputs": [
    {
     "data": {
      "text/html": [
       "<div>\n",
       "<style scoped>\n",
       "    .dataframe tbody tr th:only-of-type {\n",
       "        vertical-align: middle;\n",
       "    }\n",
       "\n",
       "    .dataframe tbody tr th {\n",
       "        vertical-align: top;\n",
       "    }\n",
       "\n",
       "    .dataframe thead th {\n",
       "        text-align: right;\n",
       "    }\n",
       "</style>\n",
       "<table border=\"1\" class=\"dataframe\">\n",
       "  <thead>\n",
       "    <tr style=\"text-align: right;\">\n",
       "      <th></th>\n",
       "      <th>geo_id</th>\n",
       "      <th>fips</th>\n",
       "      <th>county</th>\n",
       "      <th>total_employed</th>\n",
       "      <th>agriculture</th>\n",
       "      <th>construction</th>\n",
       "      <th>manufacturing</th>\n",
       "      <th>wholesale_trade</th>\n",
       "      <th>retail_trade</th>\n",
       "      <th>transport_utilities</th>\n",
       "      <th>information</th>\n",
       "      <th>finance_insurance_realestate</th>\n",
       "      <th>prof_scientific_waste</th>\n",
       "      <th>edu_health</th>\n",
       "      <th>arts_recreation</th>\n",
       "      <th>other</th>\n",
       "      <th>public_admin</th>\n",
       "      <th>year</th>\n",
       "    </tr>\n",
       "  </thead>\n",
       "  <tbody>\n",
       "    <tr>\n",
       "      <th>0</th>\n",
       "      <td>0500000US01003</td>\n",
       "      <td>1003</td>\n",
       "      <td>Baldwin County, Alabama</td>\n",
       "      <td>77263.0</td>\n",
       "      <td>1302.0</td>\n",
       "      <td>6489.0</td>\n",
       "      <td>6134.0</td>\n",
       "      <td>2131.0</td>\n",
       "      <td>9525.0</td>\n",
       "      <td>3557.0</td>\n",
       "      <td>940.0</td>\n",
       "      <td>5893.0</td>\n",
       "      <td>9873.0</td>\n",
       "      <td>14753.0</td>\n",
       "      <td>8257.0</td>\n",
       "      <td>3575.0</td>\n",
       "      <td>4834.0</td>\n",
       "      <td>2010</td>\n",
       "    </tr>\n",
       "    <tr>\n",
       "      <th>1</th>\n",
       "      <td>0500000US01015</td>\n",
       "      <td>1015</td>\n",
       "      <td>Calhoun County, Alabama</td>\n",
       "      <td>42768.0</td>\n",
       "      <td>337.0</td>\n",
       "      <td>1371.0</td>\n",
       "      <td>7868.0</td>\n",
       "      <td>750.0</td>\n",
       "      <td>5706.0</td>\n",
       "      <td>1626.0</td>\n",
       "      <td>779.0</td>\n",
       "      <td>2234.0</td>\n",
       "      <td>3776.0</td>\n",
       "      <td>8351.0</td>\n",
       "      <td>3799.0</td>\n",
       "      <td>2440.0</td>\n",
       "      <td>3731.0</td>\n",
       "      <td>2010</td>\n",
       "    </tr>\n",
       "    <tr>\n",
       "      <th>2</th>\n",
       "      <td>0500000US01043</td>\n",
       "      <td>1043</td>\n",
       "      <td>Cullman County, Alabama</td>\n",
       "      <td>NaN</td>\n",
       "      <td>NaN</td>\n",
       "      <td>NaN</td>\n",
       "      <td>NaN</td>\n",
       "      <td>NaN</td>\n",
       "      <td>NaN</td>\n",
       "      <td>NaN</td>\n",
       "      <td>NaN</td>\n",
       "      <td>NaN</td>\n",
       "      <td>NaN</td>\n",
       "      <td>NaN</td>\n",
       "      <td>NaN</td>\n",
       "      <td>NaN</td>\n",
       "      <td>NaN</td>\n",
       "      <td>2010</td>\n",
       "    </tr>\n",
       "    <tr>\n",
       "      <th>3</th>\n",
       "      <td>0500000US01049</td>\n",
       "      <td>1049</td>\n",
       "      <td>DeKalb County, Alabama</td>\n",
       "      <td>NaN</td>\n",
       "      <td>NaN</td>\n",
       "      <td>NaN</td>\n",
       "      <td>NaN</td>\n",
       "      <td>NaN</td>\n",
       "      <td>NaN</td>\n",
       "      <td>NaN</td>\n",
       "      <td>NaN</td>\n",
       "      <td>NaN</td>\n",
       "      <td>NaN</td>\n",
       "      <td>NaN</td>\n",
       "      <td>NaN</td>\n",
       "      <td>NaN</td>\n",
       "      <td>NaN</td>\n",
       "      <td>2010</td>\n",
       "    </tr>\n",
       "    <tr>\n",
       "      <th>4</th>\n",
       "      <td>0500000US01051</td>\n",
       "      <td>1051</td>\n",
       "      <td>Elmore County, Alabama</td>\n",
       "      <td>NaN</td>\n",
       "      <td>NaN</td>\n",
       "      <td>NaN</td>\n",
       "      <td>NaN</td>\n",
       "      <td>NaN</td>\n",
       "      <td>NaN</td>\n",
       "      <td>NaN</td>\n",
       "      <td>NaN</td>\n",
       "      <td>NaN</td>\n",
       "      <td>NaN</td>\n",
       "      <td>NaN</td>\n",
       "      <td>NaN</td>\n",
       "      <td>NaN</td>\n",
       "      <td>NaN</td>\n",
       "      <td>2010</td>\n",
       "    </tr>\n",
       "  </tbody>\n",
       "</table>\n",
       "</div>"
      ],
      "text/plain": [
       "           geo_id  fips                   county  total_employed  agriculture  \\\n",
       "0  0500000US01003  1003  Baldwin County, Alabama         77263.0       1302.0   \n",
       "1  0500000US01015  1015  Calhoun County, Alabama         42768.0        337.0   \n",
       "2  0500000US01043  1043  Cullman County, Alabama             NaN          NaN   \n",
       "3  0500000US01049  1049   DeKalb County, Alabama             NaN          NaN   \n",
       "4  0500000US01051  1051   Elmore County, Alabama             NaN          NaN   \n",
       "\n",
       "   construction  manufacturing  wholesale_trade  retail_trade  \\\n",
       "0        6489.0         6134.0           2131.0        9525.0   \n",
       "1        1371.0         7868.0            750.0        5706.0   \n",
       "2           NaN            NaN              NaN           NaN   \n",
       "3           NaN            NaN              NaN           NaN   \n",
       "4           NaN            NaN              NaN           NaN   \n",
       "\n",
       "   transport_utilities  information  finance_insurance_realestate  \\\n",
       "0               3557.0        940.0                        5893.0   \n",
       "1               1626.0        779.0                        2234.0   \n",
       "2                  NaN          NaN                           NaN   \n",
       "3                  NaN          NaN                           NaN   \n",
       "4                  NaN          NaN                           NaN   \n",
       "\n",
       "   prof_scientific_waste  edu_health  arts_recreation   other  public_admin  \\\n",
       "0                 9873.0     14753.0           8257.0  3575.0        4834.0   \n",
       "1                 3776.0      8351.0           3799.0  2440.0        3731.0   \n",
       "2                    NaN         NaN              NaN     NaN           NaN   \n",
       "3                    NaN         NaN              NaN     NaN           NaN   \n",
       "4                    NaN         NaN              NaN     NaN           NaN   \n",
       "\n",
       "   year  \n",
       "0  2010  \n",
       "1  2010  \n",
       "2  2010  \n",
       "3  2010  \n",
       "4  2010  "
      ]
     },
     "execution_count": 3,
     "metadata": {},
     "output_type": "execute_result"
    }
   ],
   "source": [
    "industry = pd.read_csv(\"industry_occupation.csv\",encoding = \"ISO-8859-1\")\n",
    "industry.head()"
   ]
  },
  {
   "cell_type": "markdown",
   "metadata": {
    "colab_type": "text",
    "id": "RHSc19yeuDYG"
   },
   "source": [
    "Checking if there extent of missing data,"
   ]
  },
  {
   "cell_type": "code",
   "execution_count": 4,
   "metadata": {
    "colab": {
     "base_uri": "https://localhost:8080/",
     "height": 51
    },
    "colab_type": "code",
    "id": "it1IcpBmuDQw",
    "outputId": "4ac435f5-4b1a-4844-a2c4-4a7559361f22"
   },
   "outputs": [
    {
     "name": "stdout",
     "output_type": "stream",
     "text": [
      "There are 0 NaNs in the chemical dataset\n",
      "There are 10780 NaNs in the industry_occupation dataset\n"
     ]
    }
   ],
   "source": [
    "print('There are %d NaNs in the chemical dataset' % sum(chemicals.isnull().sum()))\n",
    "print('There are %d NaNs in the industry_occupation dataset' % sum(industry.isnull().sum()))"
   ]
  },
  {
   "cell_type": "markdown",
   "metadata": {
    "colab_type": "text",
    "id": "4HpidHvptEgS"
   },
   "source": [
    "Although *chemical.csv* is complete, *industry_occupation.csv* is missing a substantial amount of data. So, we took a closer look at how the missing data in *industry_occupation.csv* was spread. "
   ]
  },
  {
   "cell_type": "code",
   "execution_count": 5,
   "metadata": {
    "colab": {
     "base_uri": "https://localhost:8080/",
     "height": 771
    },
    "colab_type": "code",
    "id": "PWod7b5fuP35",
    "outputId": "1f1a6dca-4d1f-4c3e-d1d1-714a8502747b"
   },
   "outputs": [
    {
     "data": {
      "image/png": "[encoded data removed]",
      "text/plain": [
       "<Figure size 1440x720 with 2 Axes>"
      ]
     },
     "metadata": {
      "needs_background": "light"
     },
     "output_type": "display_data"
    }
   ],
   "source": [
    "msno.matrix(industry.sample(1000), inline=True, sparkline=True, figsize=(20,10), sort='ascending')"
   ]
  },
  {
   "cell_type": "markdown",
   "metadata": {
    "colab_type": "text",
    "id": "bQ_wmAMWuWh4"
   },
   "source": [
    "We observe a pattern from the plot: A county either has complete data, or it has no data about its industry and occupation. From the pattern and to avoid unnecessary complexity, we assume that the missing data points are MCAR. As a result, we just drop the rows with missing values."
   ]
  },
  {
   "cell_type": "code",
   "execution_count": 6,
   "metadata": {
    "colab": {
     "base_uri": "https://localhost:8080/",
     "height": 34
    },
    "colab_type": "code",
    "id": "Z83S689wudJ0",
    "outputId": "946a8cde-ad83-4f82-aaf9-304e6eab70d4"
   },
   "outputs": [
    {
     "name": "stdout",
     "output_type": "stream",
     "text": [
      "There are 0 NaNs in the industry_occupation dataset\n"
     ]
    }
   ],
   "source": [
    "industry.dropna(inplace=True)\n",
    "print('There are %d NaNs in the industry_occupation dataset' % sum(industry.isnull().sum()))"
   ]
  },
  {
   "cell_type": "markdown",
   "metadata": {
    "colab_type": "text",
    "id": "xG0V87eluoTw"
   },
   "source": [
    "Now, we should combine both datasets; the first step is alignment."
   ]
  },
  {
   "cell_type": "code",
   "execution_count": 7,
   "metadata": {
    "colab": {},
    "colab_type": "code",
    "id": "HekaAM6BxsVB"
   },
   "outputs": [],
   "source": [
    "industry['state'] = industry['county'].map(lambda x: x.split(',')[1][1:])\n",
    "industry['county'] = industry['county'].map(lambda x: x.split(',')[0].replace(' County', '')).tolist()"
   ]
  },
  {
   "cell_type": "code",
   "execution_count": 8,
   "metadata": {
    "colab": {
     "base_uri": "https://localhost:8080/",
     "height": 51
    },
    "colab_type": "code",
    "id": "OTmM4gcwxzh7",
    "outputId": "e6bcc724-87c0-4580-c26b-a5d099b440e9"
   },
   "outputs": [
    {
     "name": "stdout",
     "output_type": "stream",
     "text": [
      "There are 27 states in the chemical dataset\n",
      "There are 51 states in the industry_occupation dataset\n"
     ]
    }
   ],
   "source": [
    "print('There are %d states in the chemical dataset\\nThere are %d states in the industry_occupation dataset' % (len(set(chemicals['state'])), len(set(industry['state']))))"
   ]
  },
  {
   "cell_type": "markdown",
   "metadata": {
    "colab_type": "text",
    "id": "JA1RtRPYx1Vn"
   },
   "source": [
    "Since the set of states represented in the two datasets are non-identical, further analysis can only be performed on its intersection. "
   ]
  },
  {
   "cell_type": "code",
   "execution_count": 9,
   "metadata": {
    "colab": {},
    "colab_type": "code",
    "id": "0zTD1HL_zNxN"
   },
   "outputs": [],
   "source": [
    "industry = industry[industry['state'].isin(set(chemicals['state']))]"
   ]
  },
  {
   "cell_type": "markdown",
   "metadata": {
    "colab_type": "text",
    "id": "xFlV2ldvTYj-"
   },
   "source": [
    "### Exploratory Data Analysis"
   ]
  },
  {
   "cell_type": "markdown",
   "metadata": {
    "colab_type": "text",
    "id": "lIH9AIY5Te_c"
   },
   "source": [
    "Data manipulation and exploration process.\n",
    "\n",
    "Analytical and modeling steps\n",
    "\n",
    "1.   What hypotheses tests and ad-hoc studies did you we perform?\n",
    "2.   How were those results interpreted?\n",
    "3.   What patterns did we notice?\n",
    "4.   How did these patterns inform our subsequent decisions?\n"
   ]
  },
  {
   "cell_type": "markdown",
   "metadata": {
    "colab_type": "text",
    "id": "wq50KmK32wIL"
   },
   "source": [
    "Now, we want to see how employment is distributed across the major industry sectors within each county. However, \n",
    "there are over a thousand counties and it is not feasible to analyse the distribution on a county by county basis. To overcome this, we aggregate the employment distribution across all counties. "
   ]
  },
  {
   "cell_type": "code",
   "execution_count": 10,
   "metadata": {
    "colab": {
     "base_uri": "https://localhost:8080/",
     "height": 119
    },
    "colab_type": "code",
    "id": "I-1AZXDQ4J_v",
    "outputId": "9d6dd4e8-6f89-4129-b4b6-360178d40e60"
   },
   "outputs": [
    {
     "data": {
      "text/plain": [
       "Index(['geo_id', 'fips', 'county', 'total_employed', 'agriculture',\n",
       "       'construction', 'manufacturing', 'wholesale_trade', 'retail_trade',\n",
       "       'transport_utilities', 'information', 'finance_insurance_realestate',\n",
       "       'prof_scientific_waste', 'edu_health', 'arts_recreation', 'other',\n",
       "       'public_admin', 'year', 'state'],\n",
       "      dtype='object')"
      ]
     },
     "execution_count": 10,
     "metadata": {},
     "output_type": "execute_result"
    }
   ],
   "source": [
    "industry.columns"
   ]
  },
  {
   "cell_type": "code",
   "execution_count": 11,
   "metadata": {
    "colab": {
     "base_uri": "https://localhost:8080/",
     "height": 290
    },
    "colab_type": "code",
    "id": "ywBW3Fw64PgE",
    "outputId": "2dd0cfb5-fbc6-4c5b-ed73-a58ee6e519a8"
   },
   "outputs": [
    {
     "data": {
      "image/png": "[encoded data removed]",
      "text/plain": [
       "<Figure size 432x288 with 1 Axes>"
      ]
     },
     "metadata": {
      "needs_background": "light"
     },
     "output_type": "display_data"
    }
   ],
   "source": [
    "industry_cat = ['agriculture','construction', 'manufacturing', 'wholesale_trade', 'retail_trade','transport_utilities', 'information', 'finance_insurance_realestate','prof_scientific_waste', 'edu_health', 'arts_recreation', 'other','public_admin']\n",
    "industry_long = pd.melt(industry, id_vars=['geo_id', 'year'], value_vars=industry_cat, var_name='industry', value_name='population')\n",
    "industry_population = pd.pivot_table(industry_long, index='industry', columns='year', aggfunc='sum').astype('int')\n",
    "industry_population = pd.melt(industry_population['population'].T.reset_index(), id_vars=['year'], value_name='population')\n",
    "plot = sns.lineplot(x = 'year', y='population', hue='industry', data = industry_population)"
   ]
  },
  {
   "cell_type": "markdown",
   "metadata": {
    "colab_type": "text",
    "id": "kZVXPrld69n5"
   },
   "source": [
    "From the graph above, we see that employment distribution is stable from 2010-2016. Henceforth, we will assume that future employment distribution will be similarly stable. "
   ]
  },
  {
   "cell_type": "markdown",
   "metadata": {
    "colab_type": "text",
    "id": "gRgLMWOc_YII"
   },
   "source": [
    "Now, we will take a closer look at the *chemicals.csv* file. We want to see if the unit of measurement used is consistent over the years. \n",
    "\n",
    "1.   List item\n",
    "2.   List item\n",
    "\n"
   ]
  },
  {
   "cell_type": "code",
   "execution_count": 12,
   "metadata": {
    "colab": {
     "base_uri": "https://localhost:8080/",
     "height": 297
    },
    "colab_type": "code",
    "id": "g77X9MVL69VS",
    "outputId": "e10e32f9-3b3d-4bb5-b633-db4acc54337b"
   },
   "outputs": [
    {
     "data": {
      "text/html": [
       "<div>\n",
       "<style scoped>\n",
       "    .dataframe tbody tr th:only-of-type {\n",
       "        vertical-align: middle;\n",
       "    }\n",
       "\n",
       "    .dataframe tbody tr th {\n",
       "        vertical-align: top;\n",
       "    }\n",
       "\n",
       "    .dataframe thead tr th {\n",
       "        text-align: left;\n",
       "    }\n",
       "\n",
       "    .dataframe thead tr:last-of-type th {\n",
       "        text-align: right;\n",
       "    }\n",
       "</style>\n",
       "<table border=\"1\" class=\"dataframe\">\n",
       "  <thead>\n",
       "    <tr>\n",
       "      <th></th>\n",
       "      <th colspan=\"2\" halign=\"left\">value</th>\n",
       "    </tr>\n",
       "    <tr>\n",
       "      <th>unit_measurement</th>\n",
       "      <th>micrograms/L</th>\n",
       "      <th>milligrams/L</th>\n",
       "    </tr>\n",
       "    <tr>\n",
       "      <th>chemical_species</th>\n",
       "      <th></th>\n",
       "      <th></th>\n",
       "    </tr>\n",
       "  </thead>\n",
       "  <tbody>\n",
       "    <tr>\n",
       "      <th>Arsenic</th>\n",
       "      <td>142001</td>\n",
       "      <td>0</td>\n",
       "    </tr>\n",
       "    <tr>\n",
       "      <th>DEHP</th>\n",
       "      <td>72825</td>\n",
       "      <td>0</td>\n",
       "    </tr>\n",
       "    <tr>\n",
       "      <th>Halo-Acetic Acid</th>\n",
       "      <td>146132</td>\n",
       "      <td>0</td>\n",
       "    </tr>\n",
       "    <tr>\n",
       "      <th>Nitrates</th>\n",
       "      <td>0</td>\n",
       "      <td>329372</td>\n",
       "    </tr>\n",
       "    <tr>\n",
       "      <th>Trihalomethane</th>\n",
       "      <td>154258</td>\n",
       "      <td>0</td>\n",
       "    </tr>\n",
       "    <tr>\n",
       "      <th>Uranium</th>\n",
       "      <td>37731</td>\n",
       "      <td>0</td>\n",
       "    </tr>\n",
       "  </tbody>\n",
       "</table>\n",
       "</div>"
      ],
      "text/plain": [
       "                        value             \n",
       "unit_measurement micrograms/L milligrams/L\n",
       "chemical_species                          \n",
       "Arsenic                142001            0\n",
       "DEHP                    72825            0\n",
       "Halo-Acetic Acid       146132            0\n",
       "Nitrates                    0       329372\n",
       "Trihalomethane         154258            0\n",
       "Uranium                 37731            0"
      ]
     },
     "execution_count": 12,
     "metadata": {},
     "output_type": "execute_result"
    }
   ],
   "source": [
    "# Show how many times for a unit measurement was used on a chemical species\n",
    "pd.pivot_table(chemicals[['chemical_species', 'unit_measurement', 'value']], index='chemical_species', columns='unit_measurement', aggfunc='count').fillna(0).astype('int')"
   ]
  },
  {
   "cell_type": "markdown",
   "metadata": {
    "colab_type": "text",
    "id": "89BWVsXt_QOj"
   },
   "source": [
    "We see that the unit of measurement is indeed consistent. "
   ]
  },
  {
   "cell_type": "code",
   "execution_count": 13,
   "metadata": {
    "colab": {
     "base_uri": "https://localhost:8080/",
     "height": 753
    },
    "colab_type": "code",
    "id": "8Iyrm_wK_5IA",
    "outputId": "cdd3d6ca-2d72-481d-e8ed-3d8ff9ebccb2"
   },
   "outputs": [
    {
     "data": {
      "image/png": "[encoded data removed]",
      "text/plain": [
       "<Figure size 1596.1x720 with 1 Axes>"
      ]
     },
     "metadata": {
      "needs_background": "light"
     },
     "output_type": "display_data"
    }
   ],
   "source": [
    "plot = sns.catplot(x=\"value\", y=\"chemical_species\", hue='contaminant_level',kind=\"box\", height=10, aspect=2, data=chemicals)\n",
    "plot.set_titles('Box plot of contaminant valye by chemical species')\n",
    "ax = plot.axes[0][0]\n",
    "ax.set_xscale('log')"
   ]
  },
  {
   "cell_type": "markdown",
   "metadata": {
    "colab_type": "text",
    "id": "ztWkeM8mAZVG"
   },
   "source": [
    "Looking at the *containment_level* and *value* feature of the *chemicals.csv*, we see that different counties have different standards for each of the six chemicals. \n",
    "\n",
    "Because of this inconsistency, in future analysis, we will use the level instead of raw values. "
   ]
  },
  {
   "cell_type": "code",
   "execution_count": 15,
   "metadata": {
    "colab": {},
    "colab_type": "code",
    "id": "N0qwhDbIBkUq"
   },
   "outputs": [],
   "source": [
    "chem_indus = pd.merge(left=chemicals, right=industry, left_on=['year', 'state', 'county'], right_on=['year', 'state', 'county'], how='inner')"
   ]
  },
  {
   "cell_type": "code",
   "execution_count": 16,
   "metadata": {
    "colab": {},
    "colab_type": "code",
    "id": "BEA2tnAGBnXW"
   },
   "outputs": [],
   "source": [
    "from collections import defaultdict\n",
    "corr = defaultdict(list)\n",
    "for chem_y in set(chem_indus['chemical_species']):\n",
    "    for indus in industry_cat:\n",
    "        temp_df = chem_indus[chem_indus['chemical_species'] == chem_y][['value', indus]]\n",
    "        corr[chem_y].append(np.corrcoef(temp_df['value'], temp_df[indus])[0][1])"
   ]
  },
  {
   "cell_type": "code",
   "execution_count": 17,
   "metadata": {
    "colab": {
     "base_uri": "https://localhost:8080/",
     "height": 357
    },
    "colab_type": "code",
    "id": "rMyYAyfPBqdk",
    "outputId": "986f45d1-f09f-40da-d3a0-063213cd4ae8"
   },
   "outputs": [
    {
     "data": {
      "text/plain": [
       "<matplotlib.axes._subplots.AxesSubplot at 0x118bd5fd0>"
      ]
     },
     "execution_count": 17,
     "metadata": {},
     "output_type": "execute_result"
    },
    {
     "data": {
      "image/png": "[encoded data removed]",
      "text/plain": [
       "<Figure size 432x288 with 2 Axes>"
      ]
     },
     "metadata": {
      "needs_background": "light"
     },
     "output_type": "display_data"
    }
   ],
   "source": [
    "corr = pd.DataFrame(corr)\n",
    "corr.index = industry_cat\n",
    "sns.heatmap(corr)"
   ]
  },
  {
   "cell_type": "markdown",
   "metadata": {
    "colab_type": "text",
    "id": "uKRblmIKBtmg"
   },
   "source": [
    "The above heatmap shows the correlation between the different types of industires and the level of contamination for each of the six chemical species. We see that Nitrates are correlated with most industries, but especially with agriculture. "
   ]
  },
  {
   "cell_type": "code",
   "execution_count": 18,
   "metadata": {
    "colab": {
     "base_uri": "https://localhost:8080/",
     "height": 340
    },
    "colab_type": "code",
    "id": "D4mMxwuQCncK",
    "outputId": "5e12255e-0dd0-4ba8-aafd-644742e08170"
   },
   "outputs": [
    {
     "data": {
      "image/png": "[encoded data removed]",
      "text/plain": [
       "<Figure size 432x288 with 2 Axes>"
      ]
     },
     "metadata": {
      "needs_background": "light"
     },
     "output_type": "display_data"
    }
   ],
   "source": [
    "industry['lag_1'] = industry['year'] + 3\n",
    "chem_indus = pd.merge(left=chemicals, right=industry, left_on=['year', 'state', 'county'], right_on=['lag_1', 'state', 'county'], how='inner')\n",
    "corr = defaultdict(list)\n",
    "for chem_y in set(chem_indus['chemical_species']):\n",
    "    for indus in industry_cat:\n",
    "        temp_df = chem_indus[chem_indus['chemical_species'] == chem_y][['value', indus]]\n",
    "        corr[chem_y].append(np.corrcoef(temp_df['value'], temp_df[indus])[0][1])\n",
    "corr = pd.DataFrame(corr)\n",
    "corr.index = industry_cat\n",
    "plot = sns.heatmap(corr, annot=True)"
   ]
  },
  {
   "cell_type": "markdown",
   "metadata": {
    "colab_type": "text",
    "id": "K2t1WlyhC7js"
   },
   "source": [
    "The above heatmap shows the correlation when timelag=2. This timelagged heatmap exhibited a greater correlation than the non-timelagged heatmap two figures above. So, henceforth we will use the timelag=2 heatmap. "
   ]
  },
  {
   "cell_type": "markdown",
   "metadata": {
    "colab_type": "text",
    "id": "Rzlc14HKebzP"
   },
   "source": [
    "### Modeling"
   ]
  },
  {
   "cell_type": "markdown",
   "metadata": {
    "colab_type": "text",
    "id": "Obea1I1kgU6Z"
   },
   "source": [
    "**Analysis:**\n",
    "\n",
    "1.   What assumptions and choices did we make?\n",
    "2.   Why did we make those assumptions and choices?\n",
    "3.   How did we perform feature selection?\n",
    "\n",
    "**Model:**\n",
    "\n",
    "1.   What does it show?\n",
    "2.   How did we analyse the model performance?\n",
    "3.   What are the model's limitations and shortcomings?\n",
    "\n",
    "**Visualisations and Statistical Tests**\n",
    "\n",
    "1.   Why did we make these visualisations or statistical tests?\n",
    "2.   What do they tell us?"
   ]
  },
  {
   "cell_type": "markdown",
   "metadata": {
    "colab_type": "text",
    "id": "ZKnf1YD3EgK2"
   },
   "source": [
    "Now, we will create the timelag=2 dataset to be used in our predictive model. "
   ]
  },
  {
   "cell_type": "code",
   "execution_count": 19,
   "metadata": {
    "colab": {},
    "colab_type": "code",
    "id": "DhETwkOXDguB"
   },
   "outputs": [],
   "source": [
    "\n",
    "chemicals = chemicals[['chemical_species', 'contaminant_level', 'county', 'pop_served', 'state', 'value', 'year']]\n",
    "chemicals['danger'] = chemicals['contaminant_level'] == 'Greater than MCL'\n",
    "chemicals.head()\n",
    "industry = industry[['county', 'state', 'year'] + industry_cat]\n",
    "for cat in industry_cat:\n",
    "    industry['percentage_' + cat] = industry[cat] / industry[industry_cat].sum(axis=1)\n",
    "lag_1 = industry.copy()\n",
    "lag_2 = industry.copy()\n",
    "lag_1['year'] = lag_1['year'] + 1\n",
    "lag_2['year'] = lag_2['year'] + 2"
   ]
  },
  {
   "cell_type": "markdown",
   "metadata": {
    "colab_type": "text",
    "id": "_DxiMizaDe8W"
   },
   "source": [
    "We then perform a train test split and reclassify the *containment_level* feature. Originally, the levels were: \n",
    "\n",
    "\n",
    "1.   Less than\n",
    "2.   Non-detect\n",
    "3.   Greater than\n",
    "\n",
    "\n"
   ]
  },
  {
   "cell_type": "code",
   "execution_count": 20,
   "metadata": {
    "colab": {},
    "colab_type": "code",
    "id": "uVmuPXq3tTKH"
   },
   "outputs": [],
   "source": [
    "data = pd.merge(left=chemicals, right=industry, left_on=['year', 'state', 'county'], right_on=['year', 'state', 'county'], how='inner')\\\n",
    ".merge(lag_1, left_on=['year', 'state', 'county'], right_on=['year', 'state', 'county'], how='inner', suffixes=['', '_lag1'])\\\n",
    ".merge(lag_2, left_on=['year', 'state', 'county'], right_on=['year', 'state', 'county'], how='inner', suffixes=['', '_lag2'])\n",
    "data.head()\n",
    "contaminant_encoder = LabelEncoder()\n",
    "state_encoder = LabelEncoder()\n",
    "county_encoder = LabelEncoder()\n",
    "chemical_species_encoder = LabelEncoder()\n",
    "data['chemical_species'] = contaminant_encoder.fit_transform(data['chemical_species'])\n",
    "data['contaminant_level'] = contaminant_encoder.fit_transform(data['contaminant_level'])\n",
    "data['state'] = state_encoder.fit_transform(data['state'])\n",
    "data['county'] = county_encoder.fit_transform(data['county'])\n",
    "label = data[['contaminant_level', 'value', 'danger', 'year']]\n",
    "data = data.drop(['contaminant_level', 'value', 'danger'], axis=1)"
   ]
  },
  {
   "cell_type": "markdown",
   "metadata": {
    "colab_type": "text",
    "id": "lgThry3iFXqs"
   },
   "source": [
    "We now have: \n",
    "\n",
    "\n",
    "\n",
    "1.   Safe (less than and non-detect)\n",
    "2.   Danger (greater than)\n"
   ]
  },
  {
   "cell_type": "markdown",
   "metadata": {
    "colab_type": "text",
    "id": "lk_Og8sCFdPK"
   },
   "source": [
    "Lets now see how *containment_level* is distibuted across counties."
   ]
  },
  {
   "cell_type": "code",
   "execution_count": 21,
   "metadata": {
    "colab": {
     "base_uri": "https://localhost:8080/",
     "height": 34
    },
    "colab_type": "code",
    "id": "A1kROlH1EQex",
    "outputId": "ee01141e-85e9-454e-ccd5-83dfd7cf04c3"
   },
   "outputs": [
    {
     "name": "stdout",
     "output_type": "stream",
     "text": [
      "Count of danger is 1612, count of safe is 172907\n"
     ]
    }
   ],
   "source": [
    "print('Count of danger is %d, count of safe is %d' % (sum(label['danger']), label.shape[0] - sum(label['danger'])))"
   ]
  },
  {
   "cell_type": "markdown",
   "metadata": {
    "colab_type": "text",
    "id": "SB58lie0FlOT"
   },
   "source": [
    "Because the data is imbalanced, we will use AUC to measure the accuracy.\n"
   ]
  },
  {
   "cell_type": "code",
   "execution_count": 22,
   "metadata": {
    "colab": {},
    "colab_type": "code",
    "id": "1q0hW1C8Fpw-"
   },
   "outputs": [],
   "source": [
    "train, test = data[data['year'] < 2016], data[data['year'] >= 2016]\n",
    "train_label, test_label = label[label['year'] < 2016], label[label['year'] >= 2016]"
   ]
  },
  {
   "cell_type": "markdown",
   "metadata": {
    "colab_type": "text",
    "id": "m5vn9vRhGUZ9"
   },
   "source": [
    "We chose LightGBM as our prediction model because it is generally faster and has higher accuracy. LightGBM is a gradient boosting framework that uses tree based learning algorithm. LightGBM grows tree vertically while other algorithm grows trees horizontally meaning that LightGBM grows tree leaf-wise while other algorithm grows level-wise. It will choose the leaf with max delta loss to grow. When growing the same leaf, Leaf-wise algorithm can reduce more loss than a level-wise algorithm."
   ]
  },
  {
   "cell_type": "code",
   "execution_count": 30,
   "metadata": {
    "colab": {
     "base_uri": "https://localhost:8080/",
     "height": 232
    },
    "colab_type": "code",
    "id": "CdK7swtmF2Kn",
    "outputId": "bee069cd-894e-4bfe-ee13-69ac864a00f3"
   },
   "outputs": [
    {
     "name": "stderr",
     "output_type": "stream",
     "text": [
      "/Library/Frameworks/Python.framework/Versions/3.6/lib/python3.6/site-packages/lightgbm/engine.py:116: UserWarning: Found `num_trees` in params. Will use it instead of argument\n",
      "  warnings.warn(\"Found `{}` in params. Will use it instead of argument\".format(alias))\n",
      "/Library/Frameworks/Python.framework/Versions/3.6/lib/python3.6/site-packages/lightgbm/basic.py:1186: UserWarning: Using categorical_feature in Dataset.\n",
      "  warnings.warn('Using categorical_feature in Dataset.')\n",
      "/Library/Frameworks/Python.framework/Versions/3.6/lib/python3.6/site-packages/lightgbm/basic.py:752: UserWarning: categorical_feature in param dict is overridden.\n",
      "  warnings.warn('categorical_feature in param dict is overridden.')\n"
     ]
    },
    {
     "name": "stdout",
     "output_type": "stream",
     "text": [
      "[1]\tvalid_0's auc: 0.828407\n",
      "[2]\tvalid_0's auc: 0.894971\n",
      "[3]\tvalid_0's auc: 0.903052\n",
      "[4]\tvalid_0's auc: 0.916013\n",
      "[5]\tvalid_0's auc: 0.916862\n",
      "[6]\tvalid_0's auc: 0.920501\n",
      "[7]\tvalid_0's auc: 0.923173\n",
      "[8]\tvalid_0's auc: 0.92559\n",
      "[9]\tvalid_0's auc: 0.926394\n",
      "[10]\tvalid_0's auc: 0.932529\n",
      "[11]\tvalid_0's auc: 0.935773\n",
      "[12]\tvalid_0's auc: 0.936886\n",
      "[13]\tvalid_0's auc: 0.937699\n",
      "[14]\tvalid_0's auc: 0.939955\n",
      "[15]\tvalid_0's auc: 0.940621\n",
      "[16]\tvalid_0's auc: 0.942014\n",
      "[17]\tvalid_0's auc: 0.943555\n",
      "[18]\tvalid_0's auc: 0.945881\n",
      "[19]\tvalid_0's auc: 0.946202\n",
      "[20]\tvalid_0's auc: 0.947016\n",
      "[21]\tvalid_0's auc: 0.948389\n",
      "[22]\tvalid_0's auc: 0.948868\n",
      "[23]\tvalid_0's auc: 0.949615\n",
      "[24]\tvalid_0's auc: 0.950027\n",
      "[25]\tvalid_0's auc: 0.95058\n",
      "[26]\tvalid_0's auc: 0.950892\n",
      "[27]\tvalid_0's auc: 0.952076\n",
      "[28]\tvalid_0's auc: 0.953099\n",
      "[29]\tvalid_0's auc: 0.95469\n",
      "[30]\tvalid_0's auc: 0.956688\n",
      "[31]\tvalid_0's auc: 0.956956\n",
      "[32]\tvalid_0's auc: 0.957615\n",
      "[33]\tvalid_0's auc: 0.957947\n",
      "[34]\tvalid_0's auc: 0.958505\n",
      "[35]\tvalid_0's auc: 0.959232\n",
      "[36]\tvalid_0's auc: 0.959592\n",
      "[37]\tvalid_0's auc: 0.960522\n",
      "[38]\tvalid_0's auc: 0.96103\n",
      "[39]\tvalid_0's auc: 0.961667\n",
      "[40]\tvalid_0's auc: 0.962412\n",
      "[41]\tvalid_0's auc: 0.963103\n",
      "[42]\tvalid_0's auc: 0.963798\n",
      "[43]\tvalid_0's auc: 0.964226\n",
      "[44]\tvalid_0's auc: 0.96444\n",
      "[45]\tvalid_0's auc: 0.964445\n",
      "[46]\tvalid_0's auc: 0.964596\n",
      "[47]\tvalid_0's auc: 0.965571\n",
      "[48]\tvalid_0's auc: 0.965704\n",
      "[49]\tvalid_0's auc: 0.966625\n",
      "[50]\tvalid_0's auc: 0.966776\n",
      "[51]\tvalid_0's auc: 0.966644\n",
      "[52]\tvalid_0's auc: 0.966896\n",
      "[53]\tvalid_0's auc: 0.968077\n",
      "[54]\tvalid_0's auc: 0.968266\n",
      "[55]\tvalid_0's auc: 0.969439\n",
      "[56]\tvalid_0's auc: 0.969838\n",
      "[57]\tvalid_0's auc: 0.970583\n",
      "[58]\tvalid_0's auc: 0.971337\n",
      "[59]\tvalid_0's auc: 0.971649\n",
      "[60]\tvalid_0's auc: 0.972559\n",
      "[61]\tvalid_0's auc: 0.972804\n",
      "[62]\tvalid_0's auc: 0.973326\n",
      "[63]\tvalid_0's auc: 0.973518\n",
      "[64]\tvalid_0's auc: 0.97368\n",
      "[65]\tvalid_0's auc: 0.974065\n",
      "[66]\tvalid_0's auc: 0.974163\n",
      "[67]\tvalid_0's auc: 0.974253\n",
      "[68]\tvalid_0's auc: 0.974883\n",
      "[69]\tvalid_0's auc: 0.975096\n",
      "[70]\tvalid_0's auc: 0.975345\n",
      "[71]\tvalid_0's auc: 0.975871\n",
      "[72]\tvalid_0's auc: 0.976478\n",
      "[73]\tvalid_0's auc: 0.976779\n",
      "[74]\tvalid_0's auc: 0.97683\n",
      "[75]\tvalid_0's auc: 0.977062\n",
      "[76]\tvalid_0's auc: 0.977296\n",
      "[77]\tvalid_0's auc: 0.977349\n",
      "[78]\tvalid_0's auc: 0.977566\n",
      "[79]\tvalid_0's auc: 0.977788\n",
      "[80]\tvalid_0's auc: 0.97795\n",
      "[81]\tvalid_0's auc: 0.978461\n",
      "[82]\tvalid_0's auc: 0.978613\n",
      "[83]\tvalid_0's auc: 0.978753\n",
      "[84]\tvalid_0's auc: 0.978855\n",
      "[85]\tvalid_0's auc: 0.979027\n",
      "[86]\tvalid_0's auc: 0.979207\n",
      "[87]\tvalid_0's auc: 0.979275\n",
      "[88]\tvalid_0's auc: 0.97944\n",
      "[89]\tvalid_0's auc: 0.979451\n",
      "[90]\tvalid_0's auc: 0.97952\n",
      "[91]\tvalid_0's auc: 0.979652\n",
      "[92]\tvalid_0's auc: 0.979838\n",
      "[93]\tvalid_0's auc: 0.9799\n",
      "[94]\tvalid_0's auc: 0.980014\n",
      "[95]\tvalid_0's auc: 0.980173\n",
      "[96]\tvalid_0's auc: 0.980303\n",
      "[97]\tvalid_0's auc: 0.980632\n",
      "[98]\tvalid_0's auc: 0.980674\n",
      "[99]\tvalid_0's auc: 0.980746\n",
      "[100]\tvalid_0's auc: 0.980775\n",
      "[101]\tvalid_0's auc: 0.980818\n",
      "[102]\tvalid_0's auc: 0.980856\n",
      "[103]\tvalid_0's auc: 0.980924\n",
      "[104]\tvalid_0's auc: 0.98111\n",
      "[105]\tvalid_0's auc: 0.981614\n",
      "[106]\tvalid_0's auc: 0.98168\n",
      "[107]\tvalid_0's auc: 0.981663\n",
      "[108]\tvalid_0's auc: 0.981706\n",
      "[109]\tvalid_0's auc: 0.981813\n",
      "[110]\tvalid_0's auc: 0.981888\n",
      "[111]\tvalid_0's auc: 0.981921\n",
      "[112]\tvalid_0's auc: 0.981965\n",
      "[113]\tvalid_0's auc: 0.981964\n",
      "[114]\tvalid_0's auc: 0.982326\n",
      "[115]\tvalid_0's auc: 0.982442\n",
      "[116]\tvalid_0's auc: 0.982445\n",
      "[117]\tvalid_0's auc: 0.982748\n",
      "[118]\tvalid_0's auc: 0.982857\n",
      "[119]\tvalid_0's auc: 0.982912\n",
      "[120]\tvalid_0's auc: 0.983278\n",
      "[121]\tvalid_0's auc: 0.98327\n",
      "[122]\tvalid_0's auc: 0.983404\n",
      "[123]\tvalid_0's auc: 0.983419\n",
      "[124]\tvalid_0's auc: 0.983454\n",
      "[125]\tvalid_0's auc: 0.983524\n",
      "[126]\tvalid_0's auc: 0.983642\n",
      "[127]\tvalid_0's auc: 0.983704\n",
      "[128]\tvalid_0's auc: 0.98372\n",
      "[129]\tvalid_0's auc: 0.984115\n",
      "[130]\tvalid_0's auc: 0.984099\n",
      "[131]\tvalid_0's auc: 0.984128\n",
      "[132]\tvalid_0's auc: 0.984128\n",
      "[133]\tvalid_0's auc: 0.984396\n",
      "[134]\tvalid_0's auc: 0.984418\n",
      "[135]\tvalid_0's auc: 0.984459\n",
      "[136]\tvalid_0's auc: 0.9845\n",
      "[137]\tvalid_0's auc: 0.984652\n",
      "[138]\tvalid_0's auc: 0.984692\n",
      "[139]\tvalid_0's auc: 0.984842\n",
      "[140]\tvalid_0's auc: 0.984927\n",
      "[141]\tvalid_0's auc: 0.984954\n",
      "[142]\tvalid_0's auc: 0.984961\n",
      "[143]\tvalid_0's auc: 0.984959\n",
      "[144]\tvalid_0's auc: 0.984995\n",
      "[145]\tvalid_0's auc: 0.985072\n",
      "[146]\tvalid_0's auc: 0.985095\n",
      "[147]\tvalid_0's auc: 0.985155\n",
      "[148]\tvalid_0's auc: 0.985285\n",
      "[149]\tvalid_0's auc: 0.985313\n",
      "[150]\tvalid_0's auc: 0.985316\n",
      "[151]\tvalid_0's auc: 0.985404\n",
      "[152]\tvalid_0's auc: 0.985521\n",
      "[153]\tvalid_0's auc: 0.985556\n",
      "[154]\tvalid_0's auc: 0.985553\n",
      "[155]\tvalid_0's auc: 0.985598\n",
      "[156]\tvalid_0's auc: 0.985625\n",
      "[157]\tvalid_0's auc: 0.98563\n",
      "[158]\tvalid_0's auc: 0.98577\n",
      "[159]\tvalid_0's auc: 0.985849\n",
      "[160]\tvalid_0's auc: 0.985936\n",
      "[161]\tvalid_0's auc: 0.985958\n",
      "[162]\tvalid_0's auc: 0.985952\n",
      "[163]\tvalid_0's auc: 0.985965\n",
      "[164]\tvalid_0's auc: 0.986001\n",
      "[165]\tvalid_0's auc: 0.986066\n",
      "[166]\tvalid_0's auc: 0.986073\n",
      "[167]\tvalid_0's auc: 0.986116\n",
      "[168]\tvalid_0's auc: 0.986141\n",
      "[169]\tvalid_0's auc: 0.986198\n",
      "[170]\tvalid_0's auc: 0.986171\n",
      "[171]\tvalid_0's auc: 0.986173\n",
      "[172]\tvalid_0's auc: 0.986178\n",
      "[173]\tvalid_0's auc: 0.986141\n",
      "[174]\tvalid_0's auc: 0.986162\n",
      "[175]\tvalid_0's auc: 0.986159\n",
      "[176]\tvalid_0's auc: 0.986217\n",
      "[177]\tvalid_0's auc: 0.98636\n",
      "[178]\tvalid_0's auc: 0.986467\n",
      "[179]\tvalid_0's auc: 0.986683\n",
      "[180]\tvalid_0's auc: 0.986649\n",
      "[181]\tvalid_0's auc: 0.986633\n",
      "[182]\tvalid_0's auc: 0.986642\n",
      "[183]\tvalid_0's auc: 0.986638\n",
      "[184]\tvalid_0's auc: 0.986641\n",
      "[185]\tvalid_0's auc: 0.986632\n",
      "[186]\tvalid_0's auc: 0.986617\n",
      "[187]\tvalid_0's auc: 0.986643\n",
      "[188]\tvalid_0's auc: 0.986677\n",
      "[189]\tvalid_0's auc: 0.986644\n",
      "[190]\tvalid_0's auc: 0.986788\n",
      "[191]\tvalid_0's auc: 0.986754\n",
      "[192]\tvalid_0's auc: 0.986829\n",
      "[193]\tvalid_0's auc: 0.986907\n",
      "[194]\tvalid_0's auc: 0.986895\n",
      "[195]\tvalid_0's auc: 0.986955\n",
      "[196]\tvalid_0's auc: 0.986965\n",
      "[197]\tvalid_0's auc: 0.98697\n",
      "[198]\tvalid_0's auc: 0.987109\n",
      "[199]\tvalid_0's auc: 0.987146\n",
      "[200]\tvalid_0's auc: 0.987219\n"
     ]
    }
   ],
   "source": [
    "lgb_train = lgb.Dataset(train, label=train_label['danger'], categorical_feature=['chemical_species', 'county', 'state'])\n",
    "lgb_test = lgb.Dataset(test, label=test_label['danger'], categorical_feature=['chemical_species', 'county', 'state'])\n",
    "param = {'num_leaves':50, 'num_trees':200, 'objective':'binary', 'learning_rate':0.05}\n",
    "param['metric'] = 'auc'\n",
    "num_round = 20\n",
    "bst = lgb.train(param, lgb_train, num_round, valid_sets=[lgb_test])"
   ]
  },
  {
   "cell_type": "code",
   "execution_count": 24,
   "metadata": {
    "colab": {
     "base_uri": "https://localhost:8080/",
     "height": 232
    },
    "colab_type": "code",
    "id": "-IlwA43hGFny",
    "outputId": "03469e60-bbef-44e9-802d-1dabbb570568"
   },
   "outputs": [
    {
     "name": "stderr",
     "output_type": "stream",
     "text": [
      "/Library/Frameworks/Python.framework/Versions/3.6/lib/python3.6/site-packages/sklearn/utils/deprecation.py:77: DeprecationWarning: Function plot_roc_curve is deprecated; This will be removed in v0.5.0. Please use scikitplot.metrics.plot_roc instead.\n",
      "  warnings.warn(msg, category=DeprecationWarning)\n"
     ]
    },
    {
     "data": {
      "text/plain": [
       "<matplotlib.axes._subplots.AxesSubplot at 0x111cc9da0>"
      ]
     },
     "execution_count": 24,
     "metadata": {},
     "output_type": "execute_result"
    },
    {
     "data": {
      "image/png": "[encoded data removed]",
      "text/plain": [
       "<Figure size 720x720 with 1 Axes>"
      ]
     },
     "metadata": {
      "needs_background": "light"
     },
     "output_type": "display_data"
    }
   ],
   "source": [
    "output = bst.predict(test)\n",
    "test_label['predict'] = output\n",
    "test_label['correct'] = (output > 0.5) == test_label['danger']\n",
    "np.mean(test_label['correct'] == True)\n",
    "skplt.metrics.plot_roc_curve(test_label['danger'], np.array([1-output.T,output.T]).T, figsize=(10, 10))"
   ]
  },
  {
   "cell_type": "markdown",
   "metadata": {
    "colab_type": "text",
    "id": "JGyBd2TGH_Fp"
   },
   "source": [
    "![alt text](https://)We fit the model to our training data and use the validation to test it. The accuracy score is around ~92%. This shows that the model fits the data quite accurately. "
   ]
  },
  {
   "cell_type": "code",
   "execution_count": 25,
   "metadata": {
    "colab": {
     "base_uri": "https://localhost:8080/",
     "height": 181
    },
    "colab_type": "code",
    "id": "9ybtJmIMIswn",
    "outputId": "c2abe583-acbd-4e6f-b065-f6036a439d9b"
   },
   "outputs": [
    {
     "data": {
      "text/plain": [
       "<matplotlib.axes._subplots.AxesSubplot at 0x11bab6be0>"
      ]
     },
     "execution_count": 25,
     "metadata": {},
     "output_type": "execute_result"
    },
    {
     "data": {
      "image/png": "[encoded data removed]",
      "text/plain": [
       "<Figure size 432x288 with 1 Axes>"
      ]
     },
     "metadata": {
      "needs_background": "light"
     },
     "output_type": "display_data"
    }
   ],
   "source": [
    "feature_importance = pd.DataFrame({'feature' : train.columns, 'importance' : bst.feature_importance()}).sort_values('importance', ascending=False)\n",
    "sns.barplot(x='importance', y='feature', data=feature_importance[:20])"
   ]
  },
  {
   "cell_type": "markdown",
   "metadata": {
    "colab_type": "text",
    "id": "FiZK8iRGJP3S"
   },
   "source": [
    "We find that *population* and *location* are very influential in the prediction of future polluted areas. We also find that other interesting features, such as the number employed by the agriculture and transportation sectors, also play important roles. These findings are in agreement with common intuition."
   ]
  },
  {
   "cell_type": "markdown",
   "metadata": {
    "colab_type": "text",
    "id": "Vn1u038HJsUo"
   },
   "source": [
    "## Future Predictions\n",
    "\n",
    "We know that our model is accurate, so we can now use that model to predict locations where water quality might fall in the future. \n",
    "\n",
    "We created a copy of the original dataset (2010-2016) and used that to train the predictive model (timelag=2). This model predicts the safe/danger classification of each chemical species in 2017 across all counties.\n",
    "\n",
    "\n",
    "(Reminder: we assumed that future industry structure will not change.)"
   ]
  },
  {
   "cell_type": "code",
   "execution_count": 26,
   "metadata": {
    "colab": {
     "base_uri": "https://localhost:8080/",
     "height": 119
    },
    "colab_type": "code",
    "id": "8un6FjDdJuOe",
    "outputId": "27d45902-1367-4997-adee-a5ad8d39ec01"
   },
   "outputs": [],
   "source": [
    "future_industry = industry[industry['year']==2016]\n",
    "future_industry['year'] = 2017\n",
    "industry = pd.concat([industry, future_industry])"
   ]
  },
  {
   "cell_type": "code",
   "execution_count": 27,
   "metadata": {
    "colab": {
     "base_uri": "https://localhost:8080/",
     "height": 119
    },
    "colab_type": "code",
    "id": "vOTqVFRPJycv",
    "outputId": "6084b74f-5b14-4f54-db9a-f46639b00803"
   },
   "outputs": [],
   "source": [
    "future_chemical = chemicals[chemicals['year'] == 2016]\n",
    "future_chemical['year'] = 2017\n",
    "chemicals = pd.concat([chemicals, future_chemical])"
   ]
  },
  {
   "cell_type": "code",
   "execution_count": 28,
   "metadata": {
    "colab": {},
    "colab_type": "code",
    "id": "BREN5r9CKCLq"
   },
   "outputs": [],
   "source": [
    "data = pd.merge(left=chemicals, right=industry, left_on=['year', 'state', 'county'], right_on=['year', 'state', 'county'], how='inner')\\\n",
    ".merge(lag_1, left_on=['year', 'state', 'county'], right_on=['year', 'state', 'county'], how='inner', suffixes=['', '_lag1'])\\\n",
    ".merge(lag_2, left_on=['year', 'state', 'county'], right_on=['year', 'state', 'county'], how='inner', suffixes=['', '_lag2'])\n",
    "data.head()\n",
    "contaminant_encoder = LabelEncoder()\n",
    "state_encoder = LabelEncoder()\n",
    "county_encoder = LabelEncoder()\n",
    "chemical_species_encoder = LabelEncoder()\n",
    "chemical_species_encoder.fit(data['chemical_species'])\n",
    "contaminant_encoder.fit(data['contaminant_level'])\n",
    "state_encoder.fit(data['state'])\n",
    "county_encoder.fit(data['county'])\n",
    "data['chemical_species'] = chemical_species_encoder.transform(data['chemical_species'])\n",
    "data['contaminant_level'] = contaminant_encoder.transform(data['contaminant_level'])\n",
    "data['state'] = state_encoder.transform(data['state'])\n",
    "data['county'] = county_encoder.transform(data['county'])\n",
    "label = data[['contaminant_level', 'value', 'danger', 'year']]\n",
    "data = data.drop(['contaminant_level', 'value', 'danger'], axis=1)"
   ]
  },
  {
   "cell_type": "code",
   "execution_count": 29,
   "metadata": {
    "colab": {},
    "colab_type": "code",
    "id": "vJDMqSeOKL_U"
   },
   "outputs": [],
   "source": [
    "train, test = data[data['year'] < 2017], data[data['year'] >= 2017]\n",
    "train_label, test_label = label[label['year'] < 2017], label[label['year'] >= 2017]"
   ]
  },
  {
   "cell_type": "code",
   "execution_count": 31,
   "metadata": {
    "colab": {
     "base_uri": "https://localhost:8080/",
     "height": 181
    },
    "colab_type": "code",
    "id": "6c_Z-sWUKOhh",
    "outputId": "a8a70e21-859e-416d-d840-9496d441c93b"
   },
   "outputs": [],
   "source": [
    "lgb_train = lgb.Dataset(train, label=train_label['danger'], categorical_feature=['chemical_species', 'county', 'state'])\n",
    "bst = lgb.train(param, lgb_train, num_round)"
   ]
  },
  {
   "cell_type": "code",
   "execution_count": 32,
   "metadata": {
    "colab": {
     "base_uri": "https://localhost:8080/",
     "height": 164
    },
    "colab_type": "code",
    "id": "07jvXBWPKRvd",
    "outputId": "6426dd48-693b-4dd2-8cf4-8de43bcaca33"
   },
   "outputs": [
    {
     "name": "stdout",
     "output_type": "stream",
     "text": [
      "[  7.63127537e-05   3.32385015e-05   1.73352992e-03 ...,   1.53597623e-04\n",
      "   2.94679593e-04   2.52844359e-04]\n"
     ]
    }
   ],
   "source": [
    "output = bst.predict(test)\n",
    "print(output)"
   ]
  },
  {
   "cell_type": "markdown",
   "metadata": {
    "colab_type": "text",
    "id": "Fn-Z_EniMa3l"
   },
   "source": [
    "The above is our prediction.\n",
    "\n",
    "To balance between TPR and FPR, we use 0.5 as the threshhold of classification."
   ]
  },
  {
   "cell_type": "code",
   "execution_count": 33,
   "metadata": {
    "colab": {
     "base_uri": "https://localhost:8080/",
     "height": 232
    },
    "colab_type": "code",
    "id": "luZf3Ud1KWEl",
    "outputId": "ff330c3c-bda1-4da0-b613-101b04f76e9f"
   },
   "outputs": [],
   "source": [
    "test['danger'] = output >= 0.5\n",
    "test['chemical_species'] = chemical_species_encoder.inverse_transform(test['chemical_species'])\n",
    "test['state'] = state_encoder.inverse_transform(test['state'])\n",
    "test['county'] = county_encoder.inverse_transform(test['county'])\n",
    "danger = test[test['danger']]"
   ]
  },
  {
   "cell_type": "markdown",
   "metadata": {
    "colab_type": "text",
    "id": "lk73sUocKhcj"
   },
   "source": [
    "Now we produce a list of places that have a high likelihood of greater than mean concentration of harmful chemicals."
   ]
  },
  {
   "cell_type": "code",
   "execution_count": 34,
   "metadata": {
    "colab": {
     "base_uri": "https://localhost:8080/",
     "height": 164
    },
    "colab_type": "code",
    "id": "Ejrh0zjRKfz2",
    "outputId": "b1beea11-70d1-4ed1-8320-93418ff83f89"
   },
   "outputs": [
    {
     "data": {
      "text/html": [
       "<div>\n",
       "<style scoped>\n",
       "    .dataframe tbody tr th:only-of-type {\n",
       "        vertical-align: middle;\n",
       "    }\n",
       "\n",
       "    .dataframe tbody tr th {\n",
       "        vertical-align: top;\n",
       "    }\n",
       "\n",
       "    .dataframe thead th {\n",
       "        text-align: right;\n",
       "    }\n",
       "</style>\n",
       "<table border=\"1\" class=\"dataframe\">\n",
       "  <thead>\n",
       "    <tr style=\"text-align: right;\">\n",
       "      <th></th>\n",
       "      <th>chemical_species</th>\n",
       "      <th>state</th>\n",
       "      <th>county</th>\n",
       "      <th>year</th>\n",
       "    </tr>\n",
       "  </thead>\n",
       "  <tbody>\n",
       "    <tr>\n",
       "      <th>174713</th>\n",
       "      <td>Arsenic</td>\n",
       "      <td>California</td>\n",
       "      <td>Fresno</td>\n",
       "      <td>2017</td>\n",
       "    </tr>\n",
       "    <tr>\n",
       "      <th>174880</th>\n",
       "      <td>Arsenic</td>\n",
       "      <td>California</td>\n",
       "      <td>Kern</td>\n",
       "      <td>2017</td>\n",
       "    </tr>\n",
       "    <tr>\n",
       "      <th>175055</th>\n",
       "      <td>Arsenic</td>\n",
       "      <td>California</td>\n",
       "      <td>Kings</td>\n",
       "      <td>2017</td>\n",
       "    </tr>\n",
       "    <tr>\n",
       "      <th>175435</th>\n",
       "      <td>Arsenic</td>\n",
       "      <td>California</td>\n",
       "      <td>Merced</td>\n",
       "      <td>2017</td>\n",
       "    </tr>\n",
       "    <tr>\n",
       "      <th>175514</th>\n",
       "      <td>Arsenic</td>\n",
       "      <td>California</td>\n",
       "      <td>Monterey</td>\n",
       "      <td>2017</td>\n",
       "    </tr>\n",
       "    <tr>\n",
       "      <th>175841</th>\n",
       "      <td>Arsenic</td>\n",
       "      <td>California</td>\n",
       "      <td>Riverside</td>\n",
       "      <td>2017</td>\n",
       "    </tr>\n",
       "    <tr>\n",
       "      <th>175920</th>\n",
       "      <td>Arsenic</td>\n",
       "      <td>California</td>\n",
       "      <td>Sacramento</td>\n",
       "      <td>2017</td>\n",
       "    </tr>\n",
       "    <tr>\n",
       "      <th>176045</th>\n",
       "      <td>Uranium</td>\n",
       "      <td>California</td>\n",
       "      <td>San Bernardino</td>\n",
       "      <td>2017</td>\n",
       "    </tr>\n",
       "    <tr>\n",
       "      <th>176693</th>\n",
       "      <td>Nitrates</td>\n",
       "      <td>California</td>\n",
       "      <td>Santa Clara</td>\n",
       "      <td>2017</td>\n",
       "    </tr>\n",
       "    <tr>\n",
       "      <th>176977</th>\n",
       "      <td>Uranium</td>\n",
       "      <td>California</td>\n",
       "      <td>Stanislaus</td>\n",
       "      <td>2017</td>\n",
       "    </tr>\n",
       "    <tr>\n",
       "      <th>177167</th>\n",
       "      <td>Nitrates</td>\n",
       "      <td>California</td>\n",
       "      <td>Tulare</td>\n",
       "      <td>2017</td>\n",
       "    </tr>\n",
       "    <tr>\n",
       "      <th>179946</th>\n",
       "      <td>Trihalomethane</td>\n",
       "      <td>Florida</td>\n",
       "      <td>Alachua</td>\n",
       "      <td>2017</td>\n",
       "    </tr>\n",
       "    <tr>\n",
       "      <th>181384</th>\n",
       "      <td>Arsenic</td>\n",
       "      <td>Iowa</td>\n",
       "      <td>Johnson</td>\n",
       "      <td>2017</td>\n",
       "    </tr>\n",
       "    <tr>\n",
       "      <th>184170</th>\n",
       "      <td>Uranium</td>\n",
       "      <td>New Mexico</td>\n",
       "      <td>Santa Fe</td>\n",
       "      <td>2017</td>\n",
       "    </tr>\n",
       "    <tr>\n",
       "      <th>200187</th>\n",
       "      <td>Trihalomethane</td>\n",
       "      <td>Pennsylvania</td>\n",
       "      <td>Washington</td>\n",
       "      <td>2017</td>\n",
       "    </tr>\n",
       "  </tbody>\n",
       "</table>\n",
       "</div>"
      ],
      "text/plain": [
       "       chemical_species         state          county  year\n",
       "174713          Arsenic    California          Fresno  2017\n",
       "174880          Arsenic    California            Kern  2017\n",
       "175055          Arsenic    California           Kings  2017\n",
       "175435          Arsenic    California          Merced  2017\n",
       "175514          Arsenic    California        Monterey  2017\n",
       "175841          Arsenic    California       Riverside  2017\n",
       "175920          Arsenic    California      Sacramento  2017\n",
       "176045          Uranium    California  San Bernardino  2017\n",
       "176693         Nitrates    California     Santa Clara  2017\n",
       "176977          Uranium    California      Stanislaus  2017\n",
       "177167         Nitrates    California          Tulare  2017\n",
       "179946   Trihalomethane       Florida         Alachua  2017\n",
       "181384          Arsenic          Iowa         Johnson  2017\n",
       "184170          Uranium    New Mexico        Santa Fe  2017\n",
       "200187   Trihalomethane  Pennsylvania      Washington  2017"
      ]
     },
     "execution_count": 34,
     "metadata": {},
     "output_type": "execute_result"
    }
   ],
   "source": [
    "danger[['chemical_species', 'state', 'county', 'year']].drop_duplicates(['state', 'county'])"
   ]
  },
  {
   "cell_type": "markdown",
   "metadata": {
    "colab_type": "text",
    "id": "wTK1ONNm8th4"
   },
   "source": [
    "#**Summary** \n"
   ]
  },
  {
   "cell_type": "markdown",
   "metadata": {
    "colab_type": "text",
    "id": "h4Ypt-hx893n"
   },
   "source": [
    "# **Reference**"
   ]
  }
 ],
 "metadata": {
  "colab": {
   "collapsed_sections": [],
   "name": "Datathon.ipynb",
   "provenance": [],
   "version": "0.3.2"
  },
  "kernelspec": {
   "display_name": "Python 3",
   "language": "python",
   "name": "python3"
  },
  "language_info": {
   "codemirror_mode": {
    "name": "ipython",
    "version": 3
   },
   "file_extension": ".py",
   "mimetype": "text/x-python",
   "name": "python",
   "nbconvert_exporter": "python",
   "pygments_lexer": "ipython3",
   "version": "3.6.0"
  }
 },
 "nbformat": 4,
 "nbformat_minor": 1
}
